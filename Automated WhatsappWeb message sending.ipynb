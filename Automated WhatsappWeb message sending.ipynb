{
 "cells": [
  {
   "cell_type": "markdown",
   "metadata": {},
   "source": [
    "# Automatic Whatsapp message sending application"
   ]
  },
  {
   "cell_type": "markdown",
   "metadata": {},
   "source": [
    "### This application is for sending message to any group or contact using python script. In this we are opening Whatsapp web using selenium webdriver. We take the necessary details from the user. Pass the name/mobile number in seachbar of whatsapp web. Then pass the message taken from the user to input box. We can do modifications like take an array of contacts to send same message to multiple users and even schedule the system to send automated message using this script and cronjob(in linux)/Task Scheduler(in windows). We can also do static modifications to the message user passed "
   ]
  },
  {
   "cell_type": "code",
   "execution_count": null,
   "metadata": {
    "scrolled": true
   },
   "outputs": [],
   "source": [
    "from selenium import webdriver \n",
    "from selenium.webdriver.support.ui import WebDriverWait \n",
    "from selenium.webdriver.support import expected_conditions as EC \n",
    "from selenium.webdriver.common.keys import Keys \n",
    "from selenium.webdriver.common.by import By \n",
    "import time \n",
    "import sys\n",
    "\n",
    "driver = webdriver.Edge('C:\\Windows\\System32\\MicrosoftWebDriver.exe')  #Open Edge browser using selenium webdriver\n",
    "  \n",
    "driver.get(\"https://web.whatsapp.com/\")  #Open whatsappWeb \n",
    "wait = WebDriverWait(driver, 20) \n",
    "option=\"Y\"\n",
    "print(\"***** WELCOME TO AUTOMATIC WHATSAPP MESSAGE SENDER APPLICATION *****\\n\\n\")\n",
    "search_xpath = '//*[@id=\"side\"]/div[1]/div/label/div/div[2]'\n",
    "\n",
    "while(option==\"Y\" or option==\"y\"):\n",
    "    print(\"Enter Name/Ph.no of Group or Person \")   #Getting the receiver name/ph. Its case sensitive/format sensitive\n",
    "    t=input()                                       #Eg: \"VINJIT\" for name and \"+91 85274 67123\" for ph no\n",
    "    \n",
    "    search_box = wait.until(EC.presence_of_element_located((By.XPATH, search_xpath))) #Searching the receiver in search bar \n",
    "    name=str(t)                                                                       #on left panel.\n",
    "    search_box.send_keys(name + Keys.ENTER)\n",
    "    time.sleep(2)\n",
    "    \n",
    "    target=\"\\'\"+t+\"\\'\"                                               #note: Name is case sensitive and phno is format sensitive\n",
    "    x_arg = '//span[contains(@title,' + target + ')]'                #In right panel find name in header block and\n",
    "    try:                                                             # click to get right panel selected\n",
    "        group_title = wait.until(EC.presence_of_element_located((By.XPATH, x_arg))) \n",
    "        group_title.click()\n",
    "    except:\n",
    "        print(\"Name not found\")                                  #Throw exception if the name user entered is not valid\n",
    "        sys.exit()\n",
    "\n",
    "    print(\"Sending message to\",target)\n",
    "    print(\"Enter the automated message: \")\n",
    "    string = input()                                             #Getting the message to be sent from user\n",
    "#     strfancy=\": \"+string+\" [CAUTION: This message is sent by Mr.Hunt via script to Moti Doraemon ... lol]\"\n",
    "\n",
    "    print(\"How many times you want the message to be printed?\")\n",
    "    val=int(input())                                       #Getting from user number of times he wishes to send same message\n",
    "    \n",
    "    inp_xpath = '//*[@id=\"main\"]/footer/div[1]/div[2]/div/div[2]'\n",
    "    \n",
    "    try:\n",
    "        input_box = wait.until(EC.presence_of_element_located((By.XPATH, inp_xpath))) \n",
    "    except:\n",
    "        print(\"Inputbox not found\")    #Finding the input box on bottom of right panel and passing the string in it\n",
    "        sys.exit()                     #followed by enter to send the message\n",
    "\n",
    "    for i in range(val):     \n",
    "        #input_box.send_keys(string + Keys.ENTER) #only simple text\n",
    "#         stringmain=str(i+1)+strfancy\n",
    "        input_box.send_keys(string + Keys.ENTER)  \n",
    "    print(\"Messages Sent Successfully\")\n",
    "    print(\"\\n\\nDo you wish to send another message?\\nPress Y/N: \")   #Asking user if he wish to do it again\n",
    "    option=input()"
   ]
  }
 ],
 "metadata": {
  "kernelspec": {
   "display_name": "Python 3",
   "language": "python",
   "name": "python3"
  },
  "language_info": {
   "codemirror_mode": {
    "name": "ipython",
    "version": 3
   },
   "file_extension": ".py",
   "mimetype": "text/x-python",
   "name": "python",
   "nbconvert_exporter": "python",
   "pygments_lexer": "ipython3",
   "version": "3.7.3"
  }
 },
 "nbformat": 4,
 "nbformat_minor": 2
}
